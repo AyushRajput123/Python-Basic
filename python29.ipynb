{
 "cells": [
  {
   "cell_type": "code",
   "execution_count": 7,
   "id": "9066882e-2e35-4531-8964-445e32f6ac50",
   "metadata": {},
   "outputs": [
    {
     "name": "stdout",
     "output_type": "stream",
     "text": [
      "1\n",
      "2\n",
      "3\n",
      "4\n",
      "5\n",
      "6\n",
      "7\n",
      "8\n",
      "9\n",
      "10\n",
      "loop is confused\n",
      "this is normal print statement\n"
     ]
    }
   ],
   "source": [
    "# for loop\n",
    "\n",
    "for i in range(1,11):\n",
    "    if i%7 == 0 :\n",
    "        break\n",
    "    \n",
    "    print(i)\n",
    "        \n",
    "else:\n",
    "    print(\"loop is confused\")\n",
    " \n",
    "print(\"this is normal print statement\")"
   ]
  },
  {
   "cell_type": "code",
   "execution_count": 9,
   "id": "0a04a19d-992f-42f1-9f45-f7907c0e7cfd",
   "metadata": {},
   "outputs": [
    {
     "name": "stdout",
     "output_type": "stream",
     "text": [
      "3\n",
      "5\n",
      "7\n",
      "11\n",
      "13\n",
      "17\n",
      "19\n"
     ]
    }
   ],
   "source": [
    "for i in range(3,21):\n",
    "    for j in range(2,i):\n",
    "        if i%j==0:\n",
    "            break\n",
    "    else:\n",
    "        print(i)"
   ]
  },
  {
   "cell_type": "code",
   "execution_count": 16,
   "id": "7b461d18-3e99-43d2-8b43-b8fe51cbc1dd",
   "metadata": {},
   "outputs": [
    {
     "name": "stdin",
     "output_type": "stream",
     "text": [
      "enter number 34758937582\n"
     ]
    },
    {
     "name": "stdout",
     "output_type": "stream",
     "text": [
      "not prime\n"
     ]
    }
   ],
   "source": [
    "n=int(input(\"enter number\"))\n",
    "for i in range(2,n):\n",
    "        if n%i==0:\n",
    "            print(\"not prime\")\n",
    "            break\n",
    "else:\n",
    "    print(\"prime\")"
   ]
  },
  {
   "cell_type": "code",
   "execution_count": 17,
   "id": "8f1b78f0-6d35-431c-9582-54d2a347da7b",
   "metadata": {},
   "outputs": [
    {
     "name": "stdout",
     "output_type": "stream",
     "text": [
      "1\n",
      "2\n",
      "3\n",
      "4\n"
     ]
    }
   ],
   "source": [
    "n=1\n",
    "while n<11:\n",
    "    if n==5:\n",
    "        break\n",
    "    print(n)\n",
    "    n+=1\n",
    "else:\n",
    "    (\"this is complete\")"
   ]
  },
  {
   "cell_type": "code",
   "execution_count": 2,
   "id": "a4f9aa75-30a5-42a2-9f80-7c39ddf5aee3",
   "metadata": {},
   "outputs": [
    {
     "name": "stdin",
     "output_type": "stream",
     "text": [
      "enter number 2\n"
     ]
    },
    {
     "name": "stdout",
     "output_type": "stream",
     "text": [
      "2 x 1 = 2\n",
      "2 x 2 = 4\n",
      "2 x 3 = 6\n",
      "2 x 4 = 8\n",
      "2 x 5 = 10\n",
      "2 x 6 = 12\n",
      "2 x 7 = 14\n",
      "2 x 8 = 16\n",
      "2 x 9 = 18\n",
      "2 x 10 = 20\n",
      "2 x 11 = 22\n",
      "2 x 12 = 24\n",
      "2 x 13 = 26\n",
      "2 x 14 = 28\n",
      "2 x 15 = 30\n"
     ]
    }
   ],
   "source": [
    "n=int(input(\"enter number\"))\n",
    "i=1\n",
    "while i<=15:\n",
    "    print(n,\"x\",i,\"=\",n*i)\n",
    "    i+=1\n",
    "    "
   ]
  },
  {
   "cell_type": "code",
   "execution_count": 3,
   "id": "5bef29f8-0d23-4cd6-819d-f0718d4a244d",
   "metadata": {},
   "outputs": [
    {
     "name": "stdin",
     "output_type": "stream",
     "text": [
      "enter number 3\n"
     ]
    },
    {
     "name": "stdout",
     "output_type": "stream",
     "text": [
      "3 x 5 = 15\n",
      "3 x 9 = 27\n",
      "3 x 15 = 45\n"
     ]
    }
   ],
   "source": [
    "n=int(input(\"enter number\"))\n",
    "i=1\n",
    "while i<=15:\n",
    "    a=n*i\n",
    "    if a%10 ==5 or a%10 ==7:\n",
    "        print(n,\"x\",i,\"=\",n*i)\n",
    "    i+=1"
   ]
  },
  {
   "cell_type": "code",
   "execution_count": 9,
   "id": "6479ad91-c02c-4fc6-9ce5-f2cfb8765047",
   "metadata": {},
   "outputs": [
    {
     "name": "stdout",
     "output_type": "stream",
     "text": [
      "even = 5\n",
      "odd=  5\n"
     ]
    }
   ],
   "source": [
    "eve=0\n",
    "odd=0\n",
    "n=1\n",
    "while  n<=10:\n",
    "    if n%2==0:\n",
    "        eve+=1\n",
    "    else:\n",
    "        odd+=1\n",
    "    n+=1\n",
    "print(\"even =\" ,eve)\n",
    "print(\"odd= \",odd)"
   ]
  },
  {
   "cell_type": "code",
   "execution_count": 17,
   "id": "3b219fca-01ca-4181-9c4a-9381b54b560d",
   "metadata": {},
   "outputs": [
    {
     "name": "stdout",
     "output_type": "stream",
     "text": [
      "sgfh@@@jkl@@@hff\n",
      "hhhg@@@ayuh\n",
      "hjj@@@strhjjis "
     ]
    }
   ],
   "source": [
    "#declaration of string\n",
    "a='sgfh'\n",
    "b=\"jkl\"\n",
    "c=\"\"\"hff\n",
    "hhhg\"\"\"\n",
    "d='''ayuh\n",
    "hjj'''\n",
    "e='str\\\n",
    "hj'\n",
    "\n",
    "print(a,b,c,d,e, sep=\"@@@\" , end=\"jis \")"
   ]
  },
  {
   "cell_type": "code",
   "execution_count": 18,
   "id": "366e367f-3b04-4c55-beca-47b21892c924",
   "metadata": {},
   "outputs": [
    {
     "name": "stdout",
     "output_type": "stream",
     "text": [
      " this is an's college\n"
     ]
    }
   ],
   "source": [
    "st=\" this is an's college\"\n",
    "print(st)"
   ]
  },
  {
   "cell_type": "code",
   "execution_count": 21,
   "id": "ae72acad-8ce3-417b-a128-90eaec4088b7",
   "metadata": {},
   "outputs": [
    {
     "name": "stdout",
     "output_type": "stream",
     "text": [
      " this is an's college\n",
      "hello\n"
     ]
    }
   ],
   "source": [
    "st=\" this is an's college\"\n",
    "print(st)\n",
    "'''hekko\n",
    "judd'''\n",
    "a=\"hello\"\n",
    "print(a)"
   ]
  },
  {
   "cell_type": "code",
   "execution_count": 22,
   "id": "4734bc91-8280-406b-9934-b3eefaaf9541",
   "metadata": {},
   "outputs": [
    {
     "name": "stdout",
     "output_type": "stream",
     "text": [
      "Ayush rajput\n"
     ]
    }
   ],
   "source": [
    "#capitalize\n",
    "a=\"ayush rajput\"\n",
    "a=a.capitalize()\n",
    "print(a)"
   ]
  },
  {
   "cell_type": "code",
   "execution_count": 30,
   "id": "df395fe8-c699-427f-a4b2-eb060bffa60e",
   "metadata": {},
   "outputs": [
    {
     "name": "stdout",
     "output_type": "stream",
     "text": [
      "      ram      \n",
      "%%%%%%%      ram      %%%%%%%%\n"
     ]
    }
   ],
   "source": [
    "#center\n",
    "a=\"ram\"\n",
    "a=a.center(15)\n",
    "print(a)\n",
    "a=\"ram\"\n",
    "a=a.center(30,\"%\")\n",
    "print(a)"
   ]
  },
  {
   "cell_type": "code",
   "execution_count": 32,
   "id": "d8d40f4f-f255-4a52-b1a1-0d3228b6a20d",
   "metadata": {},
   "outputs": [
    {
     "name": "stdout",
     "output_type": "stream",
     "text": [
      "4\n"
     ]
    }
   ],
   "source": [
    "#count\n",
    "a=\"good morning sir good evening good afternoon good night\"\n",
    "\n",
    "print(a.count(\"good\"))"
   ]
  },
  {
   "cell_type": "code",
   "execution_count": 35,
   "id": "98487b74-a514-4965-835a-23c4045a0da6",
   "metadata": {},
   "outputs": [
    {
     "name": "stdout",
     "output_type": "stream",
     "text": [
      "13\n"
     ]
    }
   ],
   "source": [
    "#find\n",
    "a=\"good morning sir good evening good afternoon good night\"\n",
    "print(a.find(\"sir\"))\n"
   ]
  },
  {
   "cell_type": "code",
   "execution_count": 43,
   "id": "6ac9c438-620d-49a1-8c16-37350606fd1a",
   "metadata": {},
   "outputs": [
    {
     "name": "stdout",
     "output_type": "stream",
     "text": [
      "13\n"
     ]
    }
   ],
   "source": [
    "#index/slice/indexing\n",
    "a=\"good morning sir good evening good afternoon good night\"\n",
    "print(a.index(\"sir\"))\n"
   ]
  },
  {
   "cell_type": "code",
   "execution_count": 7,
   "id": "8b16b955-3a4e-4c40-ba81-47a2b51c217b",
   "metadata": {},
   "outputs": [
    {
     "name": "stdout",
     "output_type": "stream",
     "text": [
      "True\n"
     ]
    }
   ],
   "source": [
    "a=\"good\"\n",
    "print(a.isalnum())"
   ]
  },
  {
   "cell_type": "code",
   "execution_count": 9,
   "id": "3127b989-fb48-4d1e-82de-4fc932aaf094",
   "metadata": {},
   "outputs": [
    {
     "name": "stdout",
     "output_type": "stream",
     "text": [
      "True\n"
     ]
    }
   ],
   "source": [
    "a=\"good\"\n",
    "print(a.isalpha())"
   ]
  },
  {
   "cell_type": "code",
   "execution_count": 10,
   "id": "d9bb3341-eb90-4ddd-aa0c-36dca60a4e63",
   "metadata": {},
   "outputs": [
    {
     "name": "stdout",
     "output_type": "stream",
     "text": [
      "False\n"
     ]
    }
   ],
   "source": [
    "a=\"good\"\n",
    "print(a.isdigit())"
   ]
  },
  {
   "cell_type": "code",
   "execution_count": 11,
   "id": "05e12dc0-c5b6-42b8-802c-ea24a9782f69",
   "metadata": {},
   "outputs": [
    {
     "name": "stdout",
     "output_type": "stream",
     "text": [
      "False\n"
     ]
    }
   ],
   "source": [
    "a=\"good\"\n",
    "print(a.isnumeric())"
   ]
  },
  {
   "cell_type": "code",
   "execution_count": 18,
   "id": "fbc7b1f1-0780-4406-b217-2a2872960c9d",
   "metadata": {},
   "outputs": [
    {
     "name": "stdout",
     "output_type": "stream",
     "text": [
      "True\n"
     ]
    }
   ],
   "source": [
    "a=\"Good\"\n",
    "print(a.istitle())"
   ]
  },
  {
   "cell_type": "code",
   "execution_count": 13,
   "id": "86f18681-cb2a-4516-afc2-0cb96aec46fb",
   "metadata": {},
   "outputs": [
    {
     "name": "stdout",
     "output_type": "stream",
     "text": [
      "False\n"
     ]
    }
   ],
   "source": [
    "a=\"good\"\n",
    "print(a.isupper())"
   ]
  },
  {
   "cell_type": "code",
   "execution_count": 19,
   "id": "176bab92-9117-4c22-876d-e576c1d083b3",
   "metadata": {},
   "outputs": [
    {
     "name": "stdout",
     "output_type": "stream",
     "text": [
      "hgoodi\n"
     ]
    }
   ],
   "source": [
    "a=\"good\"\n",
    "b=\"hi\"\n",
    "print(a.join(b))"
   ]
  },
  {
   "cell_type": "code",
   "execution_count": null,
   "id": "bae7d0ef-f93a-4966-9eb6-cc88eea429dd",
   "metadata": {},
   "outputs": [],
   "source": []
  }
 ],
 "metadata": {
  "kernelspec": {
   "display_name": "Python 3 (ipykernel)",
   "language": "python",
   "name": "python3"
  },
  "language_info": {
   "codemirror_mode": {
    "name": "ipython",
    "version": 3
   },
   "file_extension": ".py",
   "mimetype": "text/x-python",
   "name": "python",
   "nbconvert_exporter": "python",
   "pygments_lexer": "ipython3",
   "version": "3.10.10"
  }
 },
 "nbformat": 4,
 "nbformat_minor": 5
}
