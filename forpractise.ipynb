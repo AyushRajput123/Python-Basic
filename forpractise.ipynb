{
 "cells": [
  {
   "cell_type": "code",
   "execution_count": 1,
   "id": "508b3da4-d78b-4d89-bf7c-745ab1fd025c",
   "metadata": {},
   "outputs": [
    {
     "name": "stdout",
     "output_type": "stream",
     "text": [
      "0\n",
      "1\n",
      "2\n",
      "3\n",
      "4\n",
      "5\n",
      "6\n",
      "7\n",
      "8\n",
      "9\n",
      "10\n"
     ]
    }
   ],
   "source": [
    "#natural number\n",
    "n=11\n",
    "for i in range(0,n):\n",
    "    print(i)"
   ]
  },
  {
   "cell_type": "code",
   "execution_count": 2,
   "id": "43a7fefc-5bfb-44a7-bd23-3a494dcbe52c",
   "metadata": {},
   "outputs": [
    {
     "name": "stdin",
     "output_type": "stream",
     "text": [
      "enter number:  10\n"
     ]
    },
    {
     "name": "stdout",
     "output_type": "stream",
     "text": [
      "0\n",
      "2\n",
      "4\n",
      "6\n",
      "8\n"
     ]
    }
   ],
   "source": [
    "#even number in given range\n",
    "n=int(input(\"enter number: \"))\n",
    "for i in range(n):\n",
    "    if i%2==0:\n",
    "        print(i)\n",
    "    "
   ]
  },
  {
   "cell_type": "code",
   "execution_count": 6,
   "id": "4cba0178-85f0-4b25-882c-a8bc69ebaf1e",
   "metadata": {},
   "outputs": [
    {
     "name": "stdin",
     "output_type": "stream",
     "text": [
      "enter number:  10\n"
     ]
    },
    {
     "name": "stdout",
     "output_type": "stream",
     "text": [
      "55\n"
     ]
    }
   ],
   "source": [
    "#sum of number in given number in range\n",
    "n=int(input(\"enter number: \"))\n",
    "sum=0\n",
    "for i in range(1,n+1):\n",
    "    sum = sum + i\n",
    "print(sum)\n",
    "    "
   ]
  },
  {
   "cell_type": "code",
   "execution_count": 8,
   "id": "cc1e485e-8cc5-4264-af80-087530af11d8",
   "metadata": {},
   "outputs": [
    {
     "name": "stdin",
     "output_type": "stream",
     "text": [
      "enter number:  10\n"
     ]
    },
    {
     "name": "stdout",
     "output_type": "stream",
     "text": [
      "25\n"
     ]
    }
   ],
   "source": [
    "#sum of odd number in given number in range\n",
    "n=int(input(\"enter number: \"))\n",
    "sum=0\n",
    "for i in range(1,n+1):\n",
    "    if i%2!=0:\n",
    "        sum+=i\n",
    "print(sum)\n",
    "    "
   ]
  },
  {
   "cell_type": "code",
   "execution_count": 9,
   "id": "6b03d4e6-e2ef-498f-8227-331af2195d3a",
   "metadata": {},
   "outputs": [
    {
     "name": "stdin",
     "output_type": "stream",
     "text": [
      "enter number:  2\n"
     ]
    },
    {
     "name": "stdout",
     "output_type": "stream",
     "text": [
      "2 x 1 = 2\n",
      "2 x 2 = 4\n",
      "2 x 3 = 6\n",
      "2 x 4 = 8\n",
      "2 x 5 = 10\n",
      "2 x 6 = 12\n",
      "2 x 7 = 14\n",
      "2 x 8 = 16\n",
      "2 x 9 = 18\n",
      "2 x 10 = 20\n"
     ]
    }
   ],
   "source": [
    "#multiplication table\n",
    "n= int(input(\"enter number: \"))\n",
    "for i in range(1,11):\n",
    "    print(n,\"x\",i,\"=\",i*n)"
   ]
  },
  {
   "cell_type": "code",
   "execution_count": 14,
   "id": "b5988d27-53c0-4218-965b-6a24175d3166",
   "metadata": {},
   "outputs": [
    {
     "name": "stdout",
     "output_type": "stream",
     "text": [
      "1\n",
      "2\n",
      "3\n",
      "4\n",
      "6\n",
      "6\n",
      "5\n",
      "4\n"
     ]
    }
   ],
   "source": [
    "#number from list\n",
    "li=[1,2,3,4,6,6,5,4]\n",
    "for i in li:\n",
    "    print(i)"
   ]
  },
  {
   "cell_type": "code",
   "execution_count": 18,
   "id": "1a8b3540-fe18-44a6-b9e4-9dbfa05795d6",
   "metadata": {},
   "outputs": [
    {
     "name": "stdin",
     "output_type": "stream",
     "text": [
      "enter number:  1234\n"
     ]
    },
    {
     "name": "stdout",
     "output_type": "stream",
     "text": [
      "4\n"
     ]
    }
   ],
   "source": [
    "#count total number in digit\n",
    "n= str(input(\"enter number: \"))\n",
    "count=0\n",
    "for i in n:\n",
    "    count +=1\n",
    "print(count)"
   ]
  },
  {
   "cell_type": "code",
   "execution_count": 21,
   "id": "80bfcc75-18a8-4d6c-82e5-0cbbb1eaea3e",
   "metadata": {},
   "outputs": [
    {
     "name": "stdin",
     "output_type": "stream",
     "text": [
      "enter number:  fafjs\n"
     ]
    },
    {
     "name": "stdout",
     "output_type": "stream",
     "text": [
      "string is not pallindrom fafjs\n"
     ]
    }
   ],
   "source": [
    "#pallindrom \n",
    "n= str(input(\"enter number: \"))\n",
    "rev=\"\"\n",
    "for i in n:\n",
    "    rev = i+rev\n",
    "if n==rev:\n",
    "    print(\"string is pallindrom : \",n)\n",
    "else:\n",
    "    print(\"string is not pallindrom\",n)"
   ]
  },
  {
   "cell_type": "code",
   "execution_count": 22,
   "id": "6dea0946-2974-4f91-b36b-792355c52676",
   "metadata": {},
   "outputs": [
    {
     "name": "stdin",
     "output_type": "stream",
     "text": [
      "enter number:  ayush\n"
     ]
    },
    {
     "name": "stdout",
     "output_type": "stream",
     "text": [
      "hsuya\n"
     ]
    }
   ],
   "source": [
    "#string reverse\n",
    "n= str(input(\"enter number: \"))\n",
    "rev=\"\"\n",
    "for i in n:\n",
    "    rev = i+rev\n",
    "print(rev)"
   ]
  },
  {
   "cell_type": "code",
   "execution_count": 28,
   "id": "8305a1d4-eba0-4fa9-8e13-40fa9799106b",
   "metadata": {},
   "outputs": [
    {
     "name": "stdin",
     "output_type": "stream",
     "text": [
      "enter number:  153\n"
     ]
    },
    {
     "name": "stdout",
     "output_type": "stream",
     "text": [
      "number is pallindrom\n"
     ]
    }
   ],
   "source": [
    "#armstrong\n",
    "n= str(input(\"enter number: \"))\n",
    "sum=0\n",
    "le=len(n)\n",
    "for i in n:\n",
    "    sum+=int(i)**le\n",
    "if sum==int(n):\n",
    "    print(\"number is armstrong\")\n",
    "else:\n",
    "    print(\"number is not armstrong\")"
   ]
  },
  {
   "cell_type": "code",
   "execution_count": 40,
   "id": "c4312a47-e98c-41fa-aabc-a361f8bfafbe",
   "metadata": {},
   "outputs": [
    {
     "name": "stdin",
     "output_type": "stream",
     "text": [
      "number  5\n"
     ]
    },
    {
     "name": "stdout",
     "output_type": "stream",
     "text": [
      "1\n",
      "2\n",
      "3\n",
      "5\n"
     ]
    }
   ],
   "source": [
    "#fabicconic series\n",
    "n=int(input(\"number \"))\n",
    "f=0\n",
    "s=1\n",
    "for i in range(1,n+1):\n",
    "    sum=f+s\n",
    "    f=s\n",
    "    s=sum\n",
    "    if (n+1)>sum:\n",
    "        print(sum)"
   ]
  },
  {
   "cell_type": "code",
   "execution_count": 42,
   "id": "b45b2bfc-ff4a-4ad0-9f85-2fe626520400",
   "metadata": {},
   "outputs": [
    {
     "name": "stdin",
     "output_type": "stream",
     "text": [
      "number  4\n"
     ]
    },
    {
     "name": "stdout",
     "output_type": "stream",
     "text": [
      "6\n"
     ]
    }
   ],
   "source": [
    "#factorial\n",
    "n=int(input(\"number \"))\n",
    "fact=1\n",
    "for i in range(1,n):\n",
    "    fact*=i\n",
    "    \n",
    "print(fact)"
   ]
  },
  {
   "cell_type": "code",
   "execution_count": 46,
   "id": "090c3493-327a-4d46-8cea-731979030393",
   "metadata": {},
   "outputs": [
    {
     "name": "stdin",
     "output_type": "stream",
     "text": [
      "enter :  ayush123\n"
     ]
    },
    {
     "name": "stdout",
     "output_type": "stream",
     "text": [
      "3\n",
      "5\n"
     ]
    }
   ],
   "source": [
    "#calculates didits and letters\n",
    "n=input(\"enter : \")\n",
    "digit=0\n",
    "letter=0\n",
    "for i in n:\n",
    "    if i.isdigit():\n",
    "        digit+=1\n",
    "    elif i.isalpha():\n",
    "        letter=letter+1\n",
    "\n",
    "print(digit)\n",
    "print(letter)"
   ]
  },
  {
   "cell_type": "code",
   "execution_count": null,
   "id": "540b5775-278e-43f0-8b39-aa4e77578e33",
   "metadata": {},
   "outputs": [],
   "source": []
  }
 ],
 "metadata": {
  "kernelspec": {
   "display_name": "Python 3 (ipykernel)",
   "language": "python",
   "name": "python3"
  },
  "language_info": {
   "codemirror_mode": {
    "name": "ipython",
    "version": 3
   },
   "file_extension": ".py",
   "mimetype": "text/x-python",
   "name": "python",
   "nbconvert_exporter": "python",
   "pygments_lexer": "ipython3",
   "version": "3.10.10"
  }
 },
 "nbformat": 4,
 "nbformat_minor": 5
}
