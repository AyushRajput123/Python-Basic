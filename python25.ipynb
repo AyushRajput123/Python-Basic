{
 "cells": [
  {
   "cell_type": "code",
   "execution_count": 4,
   "id": "ca07f0e1-9da0-4b0c-95cf-66c327732730",
   "metadata": {},
   "outputs": [
    {
     "data": {
      "text/plain": [
       "898989898989344444444444444444444444444444444444444444444444444"
      ]
     },
     "execution_count": 4,
     "metadata": {},
     "output_type": "execute_result"
    }
   ],
   "source": [
    "a=898989898989344444444444444444444444444444444444444444444444444\n",
    "a"
   ]
  },
  {
   "cell_type": "code",
   "execution_count": 3,
   "id": "1631dec7-c548-4e0c-ab7c-dc3da026b92e",
   "metadata": {},
   "outputs": [
    {
     "data": {
      "text/plain": [
       "int"
      ]
     },
     "execution_count": 3,
     "metadata": {},
     "output_type": "execute_result"
    }
   ],
   "source": [
    "type(a)"
   ]
  },
  {
   "cell_type": "code",
   "execution_count": 5,
   "id": "32c47ecc-b123-4614-bc5a-4f7fea339b16",
   "metadata": {},
   "outputs": [
    {
     "name": "stdout",
     "output_type": "stream",
     "text": [
      "8\n"
     ]
    }
   ],
   "source": [
    "a,b=8,9\n",
    "if a<b:\n",
    "    print(a)"
   ]
  },
  {
   "cell_type": "code",
   "execution_count": 16,
   "id": "967fa7b8-4e74-435f-85ed-bbfbb70c935d",
   "metadata": {},
   "outputs": [
    {
     "name": "stdout",
     "output_type": "stream",
     "text": [
      "140732814257000\n",
      "140732814257000\n",
      "140732814257000\n"
     ]
    }
   ],
   "source": [
    "a=True\n",
    "b=True\n",
    "c=True\n",
    "print(id(a))\n",
    "print(id(b))\n",
    "print(id(c))"
   ]
  },
  {
   "cell_type": "code",
   "execution_count": 13,
   "id": "225c8a05-3da1-402c-9997-aa77374f9f70",
   "metadata": {},
   "outputs": [
    {
     "name": "stdin",
     "output_type": "stream",
     "text": [
      "enter value 3\n",
      "enter value 4\n",
      "enter value two 5\n"
     ]
    },
    {
     "name": "stdout",
     "output_type": "stream",
     "text": [
      "9\n"
     ]
    }
   ],
   "source": [
    "a=int(input(\"enter value\"))\n",
    "a=int(input(\"enter value\"))\n",
    "b=int(input(\"enter value two\"))\n",
    "print(a+b)"
   ]
  },
  {
   "cell_type": "code",
   "execution_count": 14,
   "id": "e1bdf620-da54-4b3e-bfaa-d3c487a3dc73",
   "metadata": {},
   "outputs": [
    {
     "name": "stdout",
     "output_type": "stream",
     "text": [
      "1697493032464\n",
      "1697493032464\n",
      "1697493032464\n"
     ]
    }
   ],
   "source": [
    "a=234\n",
    "b=234\n",
    "c=234\n",
    "print(id(a))\n",
    "print(id(b))\n",
    "print(id(c))"
   ]
  },
  {
   "cell_type": "code",
   "execution_count": 17,
   "id": "409ed8fa-54cc-461c-aadc-f8d5cc161b2f",
   "metadata": {},
   "outputs": [
    {
     "name": "stdout",
     "output_type": "stream",
     "text": [
      "1697595331200\n",
      "1697595355264\n",
      "1697595343168\n"
     ]
    }
   ],
   "source": [
    "a=[2,3]\n",
    "b=[2,3]\n",
    "c=[2,3]\n",
    "print(id(a))\n",
    "print(id(b))\n",
    "print(id(c))"
   ]
  },
  {
   "cell_type": "code",
   "execution_count": 18,
   "id": "df4901a1-c979-426b-bffa-5c3cbe0b13ff",
   "metadata": {},
   "outputs": [
    {
     "name": "stdout",
     "output_type": "stream",
     "text": [
      "1697595173568\n",
      "1697595509568\n",
      "1697595454912\n"
     ]
    }
   ],
   "source": [
    "a=(2,3)\n",
    "b=(2,3)\n",
    "c=(2,3)\n",
    "print(id(a))\n",
    "print(id(b))\n",
    "print(id(c))"
   ]
  },
  {
   "cell_type": "code",
   "execution_count": 21,
   "id": "66093d8f-d395-49e4-892a-100962e2e339",
   "metadata": {},
   "outputs": [
    {
     "name": "stdout",
     "output_type": "stream",
     "text": [
      "1697590426336\n",
      "1697595541312\n",
      "1697595541312\n"
     ]
    }
   ],
   "source": [
    "a=frozenset((2,3))\n",
    "b=frozenset((2,3))\n",
    "b=frozenset((2,3))\n",
    "print(id(a))\n",
    "print(id(b))\n",
    "print(id(b))"
   ]
  },
  {
   "cell_type": "code",
   "execution_count": 35,
   "id": "1c6763ef-95d5-4914-bc09-347029921c41",
   "metadata": {},
   "outputs": [
    {
     "data": {
      "text/plain": [
       "tuple"
      ]
     },
     "execution_count": 35,
     "metadata": {},
     "output_type": "execute_result"
    }
   ],
   "source": [
    "t=tuple()\n",
    "type(t)"
   ]
  },
  {
   "cell_type": "code",
   "execution_count": 37,
   "id": "3c2964a8-9d3f-448a-b527-abca463651d8",
   "metadata": {},
   "outputs": [
    {
     "name": "stdout",
     "output_type": "stream",
     "text": [
      "<class 'dict'>\n"
     ]
    }
   ],
   "source": [
    "e={\"q\":\"ayush\",\"d\":\"dds\"}\n",
    "print(type(e))"
   ]
  },
  {
   "cell_type": "code",
   "execution_count": 39,
   "id": "9c55a256-1956-458a-bb31-94c779fde620",
   "metadata": {},
   "outputs": [
    {
     "name": "stdout",
     "output_type": "stream",
     "text": [
      "{'a': 'c', 'b': 'd'}\n"
     ]
    }
   ],
   "source": [
    "e=[[\"a\",\"c\"],[\"b\",\"d\"]]\n",
    "dict=dict(e)\n",
    "print(dict)"
   ]
  },
  {
   "cell_type": "code",
   "execution_count": null,
   "id": "7d07eadf-046a-442d-868f-c6b49c5895ad",
   "metadata": {},
   "outputs": [],
   "source": []
  }
 ],
 "metadata": {
  "kernelspec": {
   "display_name": "Python 3 (ipykernel)",
   "language": "python",
   "name": "python3"
  },
  "language_info": {
   "codemirror_mode": {
    "name": "ipython",
    "version": 3
   },
   "file_extension": ".py",
   "mimetype": "text/x-python",
   "name": "python",
   "nbconvert_exporter": "python",
   "pygments_lexer": "ipython3",
   "version": "3.10.10"
  }
 },
 "nbformat": 4,
 "nbformat_minor": 5
}
