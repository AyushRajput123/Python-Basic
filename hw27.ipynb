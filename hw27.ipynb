{
 "cells": [
  {
   "cell_type": "code",
   "execution_count": 4,
   "id": "760a7aaf-e7ea-4b07-82d0-b59b27ff0d35",
   "metadata": {},
   "outputs": [
    {
     "name": "stdout",
     "output_type": "stream",
     "text": [
      "WELCOME\n"
     ]
    },
    {
     "name": "stdin",
     "output_type": "stream",
     "text": [
      "ENTER YOUR SALARY : 50000\n",
      "ENTER YOUR ALTERNATE EMI : 1\n",
      "ENTER YOUR CREDIT SCORE : 890\n",
      "ENTER YOUR LOAN AMOUNT : 50000\n",
      "HOW MANY MEMBERS ARE THERE IN YOUR FAMILY : 3\n",
      "ENTER LOAN DURATION IN MONTHS : 24\n"
     ]
    },
    {
     "name": "stdout",
     "output_type": "stream",
     "text": [
      "your monthly emi is  2377.091129422566\n"
     ]
    }
   ],
   "source": [
    "print(\"WELCOME\")\n",
    "sal= int(input(\"ENTER YOUR SALARY :\"))\n",
    "alte= int(input(\"ENTER YOUR ALTERNATE EMI :\"))\n",
    "cs= float(input(\"ENTER YOUR CREDIT SCORE :\"))\n",
    "la= int(input(\"ENTER YOUR LOAN AMOUNT :\"))\n",
    "f= int(input(\"HOW MANY MEMBERS ARE THERE IN YOUR FAMILY :\"))\n",
    "ed=(1+alte)*20\n",
    "mon=int(input(\"ENTER LOAN DURATION IN MONTHS :\"))\n",
    "\n",
    "exp=4000*f\n",
    "fa=(60*sal)/100\n",
    "if sal>=20000 and fa > exp and ed<40:\n",
    "    \n",
    "    if cs < 849 and cs > 700:\n",
    "        ins=15/1200\n",
    "        emi=(la*ins*(1+ins)**mon)/((1+ins)**mon-1)\n",
    "        print(\"your monthly emi is \",emi)\n",
    "    elif cs> 849:\n",
    "        ins=13/1200\n",
    "        emi=(la*ins*(1+ins)**mon)/((1+ins)**mon-1)\n",
    "        \n",
    "        print(\"your monthly emi is \",emi)\n",
    "       \n",
    "    else:\n",
    "        print(\"YOU ARE NOT ELIGIBLE FOR LOAN !\")\n",
    "else:\n",
    "    print(\"YOU ARE NOT ELIGIBLE FO LOAN !\")\n",
    "    "
   ]
  },
  {
   "cell_type": "code",
   "execution_count": 13,
   "id": "5f779774-ad3e-4f95-a544-553256a835e9",
   "metadata": {},
   "outputs": [
    {
     "name": "stdout",
     "output_type": "stream",
     "text": [
      "############## SCHOLARSHIP ##############\n"
     ]
    },
    {
     "ename": "KeyboardInterrupt",
     "evalue": "Interrupted by user",
     "output_type": "error",
     "traceback": [
      "\u001b[1;31m---------------------------------------------------------------------------\u001b[0m",
      "\u001b[1;31mKeyboardInterrupt\u001b[0m                         Traceback (most recent call last)",
      "Cell \u001b[1;32mIn[13], line 3\u001b[0m\n\u001b[0;32m      1\u001b[0m \u001b[38;5;28mprint\u001b[39m(\u001b[38;5;124m\"\u001b[39m\u001b[38;5;124m############## SCHOLARSHIP ##############\u001b[39m\u001b[38;5;124m\"\u001b[39m)\n\u001b[1;32m----> 3\u001b[0m cury \u001b[38;5;241m=\u001b[39m \u001b[38;5;28;43minput\u001b[39;49m\u001b[43m(\u001b[49m\u001b[38;5;124;43m\"\u001b[39;49m\u001b[38;5;124;43mENTER YOUR CURRENT YEAR : \u001b[39;49m\u001b[38;5;124;43m\"\u001b[39;49m\u001b[43m)\u001b[49m\u001b[38;5;241m.\u001b[39mlower()\n\u001b[0;32m      4\u001b[0m cat \u001b[38;5;241m=\u001b[39m \u001b[38;5;28minput\u001b[39m(\u001b[38;5;124m\"\u001b[39m\u001b[38;5;124mENTER YOUR CATEGORY : \u001b[39m\u001b[38;5;124m\"\u001b[39m)\u001b[38;5;241m.\u001b[39mlower()\n\u001b[0;32m      5\u001b[0m preyear \u001b[38;5;241m=\u001b[39m \u001b[38;5;28mstr\u001b[39m(\u001b[38;5;28minput\u001b[39m(\u001b[38;5;124m\"\u001b[39m\u001b[38;5;124mENTER YOUR PRIVIOUS YEAR PASSING STATUS : \u001b[39m\u001b[38;5;124m\"\u001b[39m))\u001b[38;5;241m.\u001b[39mlower()\n",
      "File \u001b[1;32m~\\AppData\\Local\\Programs\\Python\\Python310\\lib\\site-packages\\ipykernel\\kernelbase.py:1282\u001b[0m, in \u001b[0;36mKernel.raw_input\u001b[1;34m(self, prompt)\u001b[0m\n\u001b[0;32m   1280\u001b[0m     msg \u001b[38;5;241m=\u001b[39m \u001b[38;5;124m\"\u001b[39m\u001b[38;5;124mraw_input was called, but this frontend does not support input requests.\u001b[39m\u001b[38;5;124m\"\u001b[39m\n\u001b[0;32m   1281\u001b[0m     \u001b[38;5;28;01mraise\u001b[39;00m StdinNotImplementedError(msg)\n\u001b[1;32m-> 1282\u001b[0m \u001b[38;5;28;01mreturn\u001b[39;00m \u001b[38;5;28;43mself\u001b[39;49m\u001b[38;5;241;43m.\u001b[39;49m\u001b[43m_input_request\u001b[49m\u001b[43m(\u001b[49m\n\u001b[0;32m   1283\u001b[0m \u001b[43m    \u001b[49m\u001b[38;5;28;43mstr\u001b[39;49m\u001b[43m(\u001b[49m\u001b[43mprompt\u001b[49m\u001b[43m)\u001b[49m\u001b[43m,\u001b[49m\n\u001b[0;32m   1284\u001b[0m \u001b[43m    \u001b[49m\u001b[38;5;28;43mself\u001b[39;49m\u001b[38;5;241;43m.\u001b[39;49m\u001b[43m_parent_ident\u001b[49m\u001b[43m[\u001b[49m\u001b[38;5;124;43m\"\u001b[39;49m\u001b[38;5;124;43mshell\u001b[39;49m\u001b[38;5;124;43m\"\u001b[39;49m\u001b[43m]\u001b[49m\u001b[43m,\u001b[49m\n\u001b[0;32m   1285\u001b[0m \u001b[43m    \u001b[49m\u001b[38;5;28;43mself\u001b[39;49m\u001b[38;5;241;43m.\u001b[39;49m\u001b[43mget_parent\u001b[49m\u001b[43m(\u001b[49m\u001b[38;5;124;43m\"\u001b[39;49m\u001b[38;5;124;43mshell\u001b[39;49m\u001b[38;5;124;43m\"\u001b[39;49m\u001b[43m)\u001b[49m\u001b[43m,\u001b[49m\n\u001b[0;32m   1286\u001b[0m \u001b[43m    \u001b[49m\u001b[43mpassword\u001b[49m\u001b[38;5;241;43m=\u001b[39;49m\u001b[38;5;28;43;01mFalse\u001b[39;49;00m\u001b[43m,\u001b[49m\n\u001b[0;32m   1287\u001b[0m \u001b[43m\u001b[49m\u001b[43m)\u001b[49m\n",
      "File \u001b[1;32m~\\AppData\\Local\\Programs\\Python\\Python310\\lib\\site-packages\\ipykernel\\kernelbase.py:1325\u001b[0m, in \u001b[0;36mKernel._input_request\u001b[1;34m(self, prompt, ident, parent, password)\u001b[0m\n\u001b[0;32m   1322\u001b[0m \u001b[38;5;28;01mexcept\u001b[39;00m \u001b[38;5;167;01mKeyboardInterrupt\u001b[39;00m:\n\u001b[0;32m   1323\u001b[0m     \u001b[38;5;66;03m# re-raise KeyboardInterrupt, to truncate traceback\u001b[39;00m\n\u001b[0;32m   1324\u001b[0m     msg \u001b[38;5;241m=\u001b[39m \u001b[38;5;124m\"\u001b[39m\u001b[38;5;124mInterrupted by user\u001b[39m\u001b[38;5;124m\"\u001b[39m\n\u001b[1;32m-> 1325\u001b[0m     \u001b[38;5;28;01mraise\u001b[39;00m \u001b[38;5;167;01mKeyboardInterrupt\u001b[39;00m(msg) \u001b[38;5;28;01mfrom\u001b[39;00m \u001b[38;5;28;01mNone\u001b[39;00m\n\u001b[0;32m   1326\u001b[0m \u001b[38;5;28;01mexcept\u001b[39;00m \u001b[38;5;167;01mException\u001b[39;00m:\n\u001b[0;32m   1327\u001b[0m     \u001b[38;5;28mself\u001b[39m\u001b[38;5;241m.\u001b[39mlog\u001b[38;5;241m.\u001b[39mwarning(\u001b[38;5;124m\"\u001b[39m\u001b[38;5;124mInvalid Message:\u001b[39m\u001b[38;5;124m\"\u001b[39m, exc_info\u001b[38;5;241m=\u001b[39m\u001b[38;5;28;01mTrue\u001b[39;00m)\n",
      "\u001b[1;31mKeyboardInterrupt\u001b[0m: Interrupted by user"
     ]
    }
   ],
   "source": [
    "print(\"############## SCHOLARSHIP ##############\")\n",
    "\n",
    "cury = input(\"ENTER YOUR CURRENT YEAR : \").lower()\n",
    "cat = input(\"ENTER YOUR CATEGORY : \").lower()\n",
    "preyear = str(input(\"ENTER YOUR PRIVIOUS YEAR PASSING STATUS : \")).lower()\n",
    "per = float(input(\"ENTER YOUR LAT YEAR PERCENTAGE : \"))\n",
    "\n",
    "sa = {\n",
    "    \"sc\": 20000,\n",
    "    \"st\": 30000,\n",
    "    \"obc\": 10000,\n",
    "    \n",
    "}\n",
    "\n",
    "if cat in sa:\n",
    "    sh = sa[cat]\n",
    "    if per > 50 and per < 60:\n",
    "        print(\"YOU GOT AN SCHOLARSHIP OF RUPEES\", sh)\n",
    "    elif per >= 60 and per < 75:\n",
    "        sh += (sh * 10) / 100\n",
    "        print(\"YOU GOT AN SCHOLARSHIP OF RUPEES\", sh)\n",
    "    elif per >= 75 and per < 85:\n",
    "        sh += (sh * 20) / 100\n",
    "        print(\"YOU GOT AN SCHOLARSHIP OF RUPEES\", sh)\n",
    "    elif per >= 85 and per < 95:\n",
    "        sh += (sh * 50) / 100\n",
    "        print(\"YOU GOT AN SCHOLARSHIP OF RUPEES\", sh)\n",
    "    elif per >= 95:\n",
    "        sh *= 2\n",
    "        print(\"YOU GOT AN SCHOLARSHIP OF RUPEES\", sh)\n",
    "    else:\n",
    "        print(\"YOU ARE NOT ELIGIBLE !\")\n",
    "else:\n",
    "    print(\"YOU ARE NOT ELIGIBLE !\")\n",
    "if cat == \"gen\" and per>85:\n",
    "    print(\"YOU GOT AN SCHOLARSHIP OF RUPEES\", 5000)"
   ]
  },
  {
   "cell_type": "code",
   "execution_count": 12,
   "id": "2aba2114-b542-4467-ad07-dfbc40588705",
   "metadata": {},
   "outputs": [
    {
     "name": "stdout",
     "output_type": "stream",
     "text": [
      "TOTAL SALARY :  1955000\n",
      "AVERAGE SALARY :  93095.23809523809\n",
      "sorry\n",
      "sorry\n",
      "sorry\n",
      "above 50% : 200000\n",
      "sorry\n",
      "sorry\n",
      "sorry\n",
      "sorry\n",
      "sorry\n",
      "sorry\n",
      "sorry\n",
      "sorry\n",
      "sorry\n",
      "sorry\n",
      "sorry\n",
      "above 50% : 150000\n",
      "sorry\n",
      "sorry\n",
      "sorry\n",
      "sorry\n",
      "above 50% : 230000\n",
      "90000\n",
      "100000\n"
     ]
    }
   ],
   "source": [
    "import statistics\n",
    "\n",
    "li=[100000,90000,100000,200000,50000,100000,50000,70000,70000,50000,50000,50000,85000,50000,100000,150000,100000,60000,100000,100000,230000]\n",
    "avg=0\n",
    "for i in range(0,len(li)):\n",
    "    avg=avg + li[i]\n",
    "print(\"TOTAL SALARY : \",avg)\n",
    "avg=avg/(len(li))\n",
    "print(\"AVERAGE SALARY : \",avg)\n",
    "for i in range(0,len(li)):\n",
    "    fi=(50*avg)/100\n",
    "    aavg=avg+fi\n",
    "    bavg=avg-fi\n",
    "    if li[i]>aavg:\n",
    "        print(\"above 50% :\",li[i])\n",
    "    elif li[i]<bavg:\n",
    "        print(\"BELOW 50% : \",li[i])\n",
    "    elif li[i]==(avg*4):\n",
    "        print(\"multiple :\",li[i])\n",
    "    else:\n",
    "        print(\"sorry\")\n",
    "li.sort()\n",
    "\n",
    "print(statistics.median(li))\n",
    "print(statistics.mode(li))\n",
    "print(statistics.median(li))\n",
    "        \n",
    "    \n",
    "    "
   ]
  },
  {
   "cell_type": "code",
   "execution_count": null,
   "id": "1567c9e9-6d76-4071-9415-8633533c00d7",
   "metadata": {},
   "outputs": [],
   "source": []
  }
 ],
 "metadata": {
  "kernelspec": {
   "display_name": "Python 3 (ipykernel)",
   "language": "python",
   "name": "python3"
  },
  "language_info": {
   "codemirror_mode": {
    "name": "ipython",
    "version": 3
   },
   "file_extension": ".py",
   "mimetype": "text/x-python",
   "name": "python",
   "nbconvert_exporter": "python",
   "pygments_lexer": "ipython3",
   "version": "3.10.10"
  }
 },
 "nbformat": 4,
 "nbformat_minor": 5
}
